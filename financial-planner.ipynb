{
 "cells": [
  {
   "cell_type": "markdown",
   "metadata": {},
   "source": [
    "# Unit 5 - Financial Planning"
   ]
  },
  {
   "cell_type": "code",
   "execution_count": 3,
   "metadata": {},
   "outputs": [],
   "source": [
    "# Initial imports\n",
    "import os\n",
    "import requests\n",
    "import pandas as pd\n",
    "from dotenv import load_dotenv\n",
    "import alpaca_trade_api as tradeapi\n",
    "from MCForecastTools import MCSimulation\n",
    "import json\n",
    "\n",
    "%matplotlib inline"
   ]
  },
  {
   "cell_type": "code",
   "execution_count": 4,
   "metadata": {},
   "outputs": [
    {
     "data": {
      "text/plain": [
       "True"
      ]
     },
     "execution_count": 4,
     "metadata": {},
     "output_type": "execute_result"
    }
   ],
   "source": [
    "# Load .env enviroment variables\n",
    "load_dotenv()"
   ]
  },
  {
   "cell_type": "markdown",
   "metadata": {},
   "source": [
    "## Part 1 - Personal Finance Planner"
   ]
  },
  {
   "cell_type": "markdown",
   "metadata": {},
   "source": [
    "### Collect Crypto Prices Using the `requests` Library"
   ]
  },
  {
   "cell_type": "code",
   "execution_count": 5,
   "metadata": {},
   "outputs": [],
   "source": [
    "# Set current amount of crypto assets\n",
    "my_btc = 1.2\n",
    "my_eth = 5.3"
   ]
  },
  {
   "cell_type": "code",
   "execution_count": 6,
   "metadata": {},
   "outputs": [],
   "source": [
    "# Crypto API URLs\n",
    "btc_url = \"https://api.alternative.me/v2/ticker/Bitcoin/?convert=CAD\"\n",
    "eth_url = \"https://api.alternative.me/v2/ticker/Ethereum/?convert=CAD\""
   ]
  },
  {
   "cell_type": "code",
   "execution_count": 7,
   "metadata": {},
   "outputs": [
    {
     "name": "stdout",
     "output_type": "stream",
     "text": [
      "The current value of your 1.2 BTC is $54365.14\n",
      "The current value of your 5.3 ETH is $15872.47\n"
     ]
    }
   ],
   "source": [
    "# Fetch current BTC price\n",
    "response_data_btc = requests.get(btc_url)\n",
    "response_data_btc_content = response_data_btc.content\n",
    "data_btc = response_data_btc.json()\n",
    "btc_price = data_btc[\"data\"][\"1\"][\"quotes\"][\"CAD\"][\"price\"]\n",
    "# Fetch current ETH price\n",
    "response_data_eth = requests.get(eth_url)\n",
    "response_data_eth_content = response_data_eth.content\n",
    "data_eth = response_data_eth.json()\n",
    "eth_price = data_eth[\"data\"][\"1027\"][\"quotes\"][\"CAD\"][\"price\"]\n",
    "# Compute current value of my crpto\n",
    "my_btc_value = btc_price * my_btc\n",
    "my_eth_value = eth_price * my_eth\n",
    "# Print current crypto wallet balance\n",
    "print(f\"The current value of your {my_btc} BTC is ${my_btc_value:0.2f}\")\n",
    "print(f\"The current value of your {my_eth} ETH is ${my_eth_value:0.2f}\")"
   ]
  },
  {
   "cell_type": "code",
   "execution_count": 8,
   "metadata": {},
   "outputs": [
    {
     "name": "stdout",
     "output_type": "stream",
     "text": [
      "{\n",
      "    \"data\": {\n",
      "        \"1\": {\n",
      "            \"id\": 1,\n",
      "            \"name\": \"Bitcoin\",\n",
      "            \"symbol\": \"BTC\",\n",
      "            \"website_slug\": \"bitcoin\",\n",
      "            \"rank\": 1,\n",
      "            \"circulating_supply\": 18732243,\n",
      "            \"total_supply\": 18732243,\n",
      "            \"max_supply\": 21000000,\n",
      "            \"quotes\": {\n",
      "                \"USD\": {\n",
      "                    \"price\": 37423.0,\n",
      "                    \"volume_24h\": 39378063832,\n",
      "                    \"market_cap\": 700446062168,\n",
      "                    \"percentage_change_1h\": -0.538838475838864,\n",
      "                    \"percentage_change_24h\": -0.910281305974266,\n",
      "                    \"percentage_change_7d\": -4.41320444824248,\n",
      "                    \"percent_change_1h\": -0.538838475838864,\n",
      "                    \"percent_change_24h\": -0.910281305974266,\n",
      "                    \"percent_change_7d\": -4.41320444824248\n",
      "                },\n",
      "                \"CAD\": {\n",
      "                    \"price\": 45304.2838,\n",
      "                    \"volume_24h\": 47671084075.0192,\n",
      "                    \"market_cap\": 847960002860.58,\n",
      "                    \"percent_change_1h\": -0.538838475838864,\n",
      "                    \"percent_change_24h\": -0.910281305974266,\n",
      "                    \"percent_change_7d\": -4.41320444824248\n",
      "                }\n",
      "            },\n",
      "            \"last_updated\": 1623413610\n",
      "        }\n",
      "    },\n",
      "    \"metadata\": {\n",
      "        \"timestamp\": 1623413610,\n",
      "        \"num_cryptocurrencies\": 1291,\n",
      "        \"error\": null\n",
      "    }\n",
      "}\n"
     ]
    }
   ],
   "source": [
    "print(json.dumps(data_btc, indent = 4))"
   ]
  },
  {
   "cell_type": "code",
   "execution_count": 9,
   "metadata": {},
   "outputs": [
    {
     "name": "stdout",
     "output_type": "stream",
     "text": [
      "{\n",
      "    \"data\": {\n",
      "        \"1027\": {\n",
      "            \"id\": 1027,\n",
      "            \"name\": \"Ethereum\",\n",
      "            \"symbol\": \"ETH\",\n",
      "            \"website_slug\": \"ethereum\",\n",
      "            \"rank\": 2,\n",
      "            \"circulating_supply\": 116246789,\n",
      "            \"total_supply\": 116246789,\n",
      "            \"max_supply\": 0,\n",
      "            \"quotes\": {\n",
      "                \"USD\": {\n",
      "                    \"price\": 2473.82,\n",
      "                    \"volume_24h\": 29634299315,\n",
      "                    \"market_cap\": 287250950899,\n",
      "                    \"percentage_change_1h\": -0.335926842081438,\n",
      "                    \"percentage_change_24h\": -3.45520748379537,\n",
      "                    \"percentage_change_7d\": -13.4506768894475,\n",
      "                    \"percent_change_1h\": -0.335926842081438,\n",
      "                    \"percent_change_24h\": -3.45520748379537,\n",
      "                    \"percent_change_7d\": -13.4506768894475\n",
      "                },\n",
      "                \"CAD\": {\n",
      "                    \"price\": 2994.806492,\n",
      "                    \"volume_24h\": 35875282750.739,\n",
      "                    \"market_cap\": 347746001158.329,\n",
      "                    \"percent_change_1h\": -0.335926842081438,\n",
      "                    \"percent_change_24h\": -3.45520748379537,\n",
      "                    \"percent_change_7d\": -13.4506768894475\n",
      "                }\n",
      "            },\n",
      "            \"last_updated\": 1623413629\n",
      "        }\n",
      "    },\n",
      "    \"metadata\": {\n",
      "        \"timestamp\": 1623413629,\n",
      "        \"num_cryptocurrencies\": 1291,\n",
      "        \"error\": null\n",
      "    }\n",
      "}\n"
     ]
    }
   ],
   "source": [
    "print(json.dumps(data_eth, indent = 4))"
   ]
  },
  {
   "cell_type": "markdown",
   "metadata": {},
   "source": [
    "### Collect Investments Data Using Alpaca: `SPY` (stocks) and `AGG` (bonds)"
   ]
  },
  {
   "cell_type": "code",
   "execution_count": 10,
   "metadata": {},
   "outputs": [],
   "source": [
    "# Set current amount of shares\n",
    "my_agg = 200\n",
    "my_spy = 50"
   ]
  },
  {
   "cell_type": "code",
   "execution_count": 11,
   "metadata": {},
   "outputs": [],
   "source": [
    "# Set Alpaca API key and secret\n",
    "alpaca_api_key = os.getenv(\"ALPACA_API_KEY\")\n",
    "alpaca_secret_key = os.getenv(\"ALPACA_SECRET_KEY\")\n",
    "\n",
    "# Create the Alpaca API object\n",
    "api = tradeapi.REST(\n",
    "    alpaca_api_key,\n",
    "    alpaca_secret_key,\n",
    "    api_version = \"v2\"\n",
    ")"
   ]
  },
  {
   "cell_type": "code",
   "execution_count": 12,
   "metadata": {},
   "outputs": [
    {
     "data": {
      "text/html": [
       "<div>\n",
       "<style scoped>\n",
       "    .dataframe tbody tr th:only-of-type {\n",
       "        vertical-align: middle;\n",
       "    }\n",
       "\n",
       "    .dataframe tbody tr th {\n",
       "        vertical-align: top;\n",
       "    }\n",
       "\n",
       "    .dataframe thead tr th {\n",
       "        text-align: left;\n",
       "    }\n",
       "</style>\n",
       "<table border=\"1\" class=\"dataframe\">\n",
       "  <thead>\n",
       "    <tr>\n",
       "      <th></th>\n",
       "      <th colspan=\"5\" halign=\"left\">AGG</th>\n",
       "      <th colspan=\"5\" halign=\"left\">SPY</th>\n",
       "    </tr>\n",
       "    <tr>\n",
       "      <th></th>\n",
       "      <th>open</th>\n",
       "      <th>high</th>\n",
       "      <th>low</th>\n",
       "      <th>close</th>\n",
       "      <th>volume</th>\n",
       "      <th>open</th>\n",
       "      <th>high</th>\n",
       "      <th>low</th>\n",
       "      <th>close</th>\n",
       "      <th>volume</th>\n",
       "    </tr>\n",
       "  </thead>\n",
       "  <tbody>\n",
       "    <tr>\n",
       "      <th>2021-06-09 00:00:00-04:00</th>\n",
       "      <td>115.43</td>\n",
       "      <td>115.43</td>\n",
       "      <td>114.97</td>\n",
       "      <td>115.05</td>\n",
       "      <td>3418086</td>\n",
       "      <td>423.18</td>\n",
       "      <td>423.26</td>\n",
       "      <td>421.41</td>\n",
       "      <td>421.62</td>\n",
       "      <td>38368598</td>\n",
       "    </tr>\n",
       "  </tbody>\n",
       "</table>\n",
       "</div>"
      ],
      "text/plain": [
       "                              AGG                                      SPY  \\\n",
       "                             open    high     low   close   volume    open   \n",
       "2021-06-09 00:00:00-04:00  115.43  115.43  114.97  115.05  3418086  423.18   \n",
       "\n",
       "                                                             \n",
       "                             high     low   close    volume  \n",
       "2021-06-09 00:00:00-04:00  423.26  421.41  421.62  38368598  "
      ]
     },
     "execution_count": 12,
     "metadata": {},
     "output_type": "execute_result"
    }
   ],
   "source": [
    "# Format current date as ISO format\n",
    "today = pd.Timestamp(\"2021-06-09\", tz= \"America/New_York\").isoformat()\n",
    "\n",
    "# Set the tickers\n",
    "tickers = [\"AGG\", \"SPY\"]\n",
    "\n",
    "# Set timeframe to '1D' for Alpaca API\n",
    "timeframe = \"1D\"\n",
    "\n",
    "# Get current closing prices for SPY and AGG\n",
    "df_portfolio = api.get_barset(\n",
    "    tickers,\n",
    "    timeframe,\n",
    "    start = today,\n",
    "    end = today,\n",
    "    limit = 1000\n",
    ").df\n",
    "\n",
    "# Preview DataFrame\n",
    "df_portfolio.head()"
   ]
  },
  {
   "cell_type": "code",
   "execution_count": 13,
   "metadata": {},
   "outputs": [
    {
     "name": "stdout",
     "output_type": "stream",
     "text": [
      "Current AGG closing price: $115.05\n",
      "Current SPY closing price: $421.62\n"
     ]
    }
   ],
   "source": [
    "# Pick AGG and SPY close prices\n",
    "df_closing_prices_AGG = float(df_portfolio[\"AGG\"][\"close\"])\n",
    "df_closing_prices_SPY = float(df_portfolio[\"SPY\"][\"close\"])\n",
    "\n",
    "# Print AGG and SPY close prices\n",
    "print(f\"Current AGG closing price: ${df_closing_prices_AGG}\")\n",
    "print(f\"Current SPY closing price: ${df_closing_prices_SPY}\")"
   ]
  },
  {
   "cell_type": "code",
   "execution_count": 14,
   "metadata": {},
   "outputs": [
    {
     "name": "stdout",
     "output_type": "stream",
     "text": [
      "The current value of your 50 SPY shares is $21081.00\n",
      "The current value of your 200 AGG shares is $23010.00\n"
     ]
    }
   ],
   "source": [
    "# Compute the current value of shares\n",
    "my_spy_value = df_closing_prices_SPY * my_spy\n",
    "my_agg_value = df_closing_prices_AGG * my_agg\n",
    "# Print current value of shares\n",
    "print(f\"The current value of your {my_spy} SPY shares is ${my_spy_value:0.2f}\")\n",
    "print(f\"The current value of your {my_agg} AGG shares is ${my_agg_value:0.2f}\")"
   ]
  },
  {
   "cell_type": "markdown",
   "metadata": {},
   "source": [
    "### Savings Health Analysis"
   ]
  },
  {
   "cell_type": "code",
   "execution_count": 15,
   "metadata": {},
   "outputs": [
    {
     "data": {
      "text/html": [
       "<div>\n",
       "<style scoped>\n",
       "    .dataframe tbody tr th:only-of-type {\n",
       "        vertical-align: middle;\n",
       "    }\n",
       "\n",
       "    .dataframe tbody tr th {\n",
       "        vertical-align: top;\n",
       "    }\n",
       "\n",
       "    .dataframe thead th {\n",
       "        text-align: right;\n",
       "    }\n",
       "</style>\n",
       "<table border=\"1\" class=\"dataframe\">\n",
       "  <thead>\n",
       "    <tr style=\"text-align: right;\">\n",
       "      <th></th>\n",
       "      <th>amount</th>\n",
       "    </tr>\n",
       "  </thead>\n",
       "  <tbody>\n",
       "    <tr>\n",
       "      <th>crypto</th>\n",
       "      <td>70237.614968</td>\n",
       "    </tr>\n",
       "    <tr>\n",
       "      <th>stock</th>\n",
       "      <td>44091.000000</td>\n",
       "    </tr>\n",
       "  </tbody>\n",
       "</table>\n",
       "</div>"
      ],
      "text/plain": [
       "              amount\n",
       "crypto  70237.614968\n",
       "stock   44091.000000"
      ]
     },
     "execution_count": 15,
     "metadata": {},
     "output_type": "execute_result"
    }
   ],
   "source": [
    "# Set monthly household income\n",
    "monthly_income = 12000\n",
    "\n",
    "# Consolidate financial assets data\n",
    "stock_value = my_spy_value + my_agg_value\n",
    "crypto_value = my_btc_value + my_eth_value\n",
    "\n",
    "financial_assets = [crypto_value, stock_value]\n",
    "\n",
    "# Create savings DataFrame\n",
    "df_savings = pd.DataFrame(financial_assets)\n",
    "df_savings_1 = df_savings.rename(columns={ 0 : \"amount\"}, index={0: \"crypto\", 1: \"stock\"}) \n",
    "\n",
    "# Display savings DataFrame\n",
    "df_savings_1                                          "
   ]
  },
  {
   "cell_type": "code",
   "execution_count": 23,
   "metadata": {},
   "outputs": [
    {
     "data": {
      "text/plain": [
       "<matplotlib.axes._subplots.AxesSubplot at 0x1c99d9a5c70>"
      ]
     },
     "execution_count": 23,
     "metadata": {},
     "output_type": "execute_result"
    },
    {
     "data": {
      "image/png": "[encoded data removed]",
      "text/plain": [
       "<Figure size 216x216 with 1 Axes>"
      ]
     },
     "metadata": {},
     "output_type": "display_data"
    }
   ],
   "source": [
    "# Plot savings pie chart\n",
    "df_savings_1[\"amount\"].plot.pie(y='amount', figsize =(3,3), title =\"proportion of type of asset\" )"
   ]
  },
  {
   "cell_type": "code",
   "execution_count": 33,
   "metadata": {},
   "outputs": [
    {
     "name": "stdout",
     "output_type": "stream",
     "text": [
      "Congratulations! You have enough money in your fund\n"
     ]
    }
   ],
   "source": [
    "# Set ideal emergency fund\n",
    "emergency_fund = monthly_income * 3\n",
    "\n",
    "# Calculate total amount of savings\n",
    "savings_total = crypto_value + stock_value\n",
    "\n",
    "# Validate saving health\n",
    "if savings_total > emergency_fund:\n",
    "    print(\"Congratulations! You have enough money in your fund\")\n",
    "elif savings_total == emergency_fund:\n",
    "    print(\"Congratulations! You've reached your financial goal\")\n",
    "elif savings_total < emergency_fund:\n",
    "    print(f\"Your current goal is just {(emergency_fund - savings_total)} away\")"
   ]
  },
  {
   "cell_type": "markdown",
   "metadata": {},
   "source": [
    "## Part 2 - Retirement Planning\n",
    "\n",
    "### Monte Carlo Simulation"
   ]
  },
  {
   "cell_type": "code",
   "execution_count": 46,
   "metadata": {},
   "outputs": [],
   "source": [
    "# Set start and end dates of five years back from today.\n",
    "# Sample results may vary from the solution based on the time frame chosen\n",
    "start_date_1 = pd.Timestamp('2016-05-01', tz='America/New_York').isoformat()\n",
    "end_date_1 = pd.Timestamp('2019-05-01', tz='America/New_York').isoformat()\n",
    "\n",
    "start_date_2 = pd.Timestamp('2019-05-02', tz='America/New_York').isoformat()\n",
    "end_date_2 = pd.Timestamp('2021-05-01', tz='America/New_York').isoformat()"
   ]
  },
  {
   "cell_type": "code",
   "execution_count": 54,
   "metadata": {},
   "outputs": [
    {
     "data": {
      "text/html": [
       "<div>\n",
       "<style scoped>\n",
       "    .dataframe tbody tr th:only-of-type {\n",
       "        vertical-align: middle;\n",
       "    }\n",
       "\n",
       "    .dataframe tbody tr th {\n",
       "        vertical-align: top;\n",
       "    }\n",
       "\n",
       "    .dataframe thead tr th {\n",
       "        text-align: left;\n",
       "    }\n",
       "</style>\n",
       "<table border=\"1\" class=\"dataframe\">\n",
       "  <thead>\n",
       "    <tr>\n",
       "      <th></th>\n",
       "      <th colspan=\"5\" halign=\"left\">AGG</th>\n",
       "      <th colspan=\"5\" halign=\"left\">SPY</th>\n",
       "    </tr>\n",
       "    <tr>\n",
       "      <th></th>\n",
       "      <th>open</th>\n",
       "      <th>high</th>\n",
       "      <th>low</th>\n",
       "      <th>close</th>\n",
       "      <th>volume</th>\n",
       "      <th>open</th>\n",
       "      <th>high</th>\n",
       "      <th>low</th>\n",
       "      <th>close</th>\n",
       "      <th>volume</th>\n",
       "    </tr>\n",
       "  </thead>\n",
       "  <tbody>\n",
       "    <tr>\n",
       "      <th>2016-05-02 00:00:00-04:00</th>\n",
       "      <td>110.74</td>\n",
       "      <td>110.7400</td>\n",
       "      <td>110.5200</td>\n",
       "      <td>110.595</td>\n",
       "      <td>3371773.0</td>\n",
       "      <td>206.92</td>\n",
       "      <td>208.18</td>\n",
       "      <td>206.41</td>\n",
       "      <td>207.97</td>\n",
       "      <td>52152807</td>\n",
       "    </tr>\n",
       "    <tr>\n",
       "      <th>2016-05-03 00:00:00-04:00</th>\n",
       "      <td>110.89</td>\n",
       "      <td>110.9450</td>\n",
       "      <td>110.7500</td>\n",
       "      <td>110.820</td>\n",
       "      <td>2844893.0</td>\n",
       "      <td>206.52</td>\n",
       "      <td>206.80</td>\n",
       "      <td>205.28</td>\n",
       "      <td>206.15</td>\n",
       "      <td>79397652</td>\n",
       "    </tr>\n",
       "    <tr>\n",
       "      <th>2016-05-04 00:00:00-04:00</th>\n",
       "      <td>110.91</td>\n",
       "      <td>110.9315</td>\n",
       "      <td>110.7595</td>\n",
       "      <td>110.880</td>\n",
       "      <td>2600710.0</td>\n",
       "      <td>204.99</td>\n",
       "      <td>205.85</td>\n",
       "      <td>204.42</td>\n",
       "      <td>204.99</td>\n",
       "      <td>73747383</td>\n",
       "    </tr>\n",
       "    <tr>\n",
       "      <th>2016-05-05 00:00:00-04:00</th>\n",
       "      <td>110.92</td>\n",
       "      <td>111.1600</td>\n",
       "      <td>110.8010</td>\n",
       "      <td>111.120</td>\n",
       "      <td>2569143.0</td>\n",
       "      <td>205.56</td>\n",
       "      <td>205.98</td>\n",
       "      <td>204.47</td>\n",
       "      <td>204.98</td>\n",
       "      <td>58322810</td>\n",
       "    </tr>\n",
       "    <tr>\n",
       "      <th>2016-05-06 00:00:00-04:00</th>\n",
       "      <td>111.12</td>\n",
       "      <td>111.1200</td>\n",
       "      <td>110.9700</td>\n",
       "      <td>111.000</td>\n",
       "      <td>2204464.0</td>\n",
       "      <td>204.06</td>\n",
       "      <td>205.77</td>\n",
       "      <td>203.88</td>\n",
       "      <td>205.70</td>\n",
       "      <td>69458860</td>\n",
       "    </tr>\n",
       "  </tbody>\n",
       "</table>\n",
       "</div>"
      ],
      "text/plain": [
       "                              AGG                                          \\\n",
       "                             open      high       low    close     volume   \n",
       "2016-05-02 00:00:00-04:00  110.74  110.7400  110.5200  110.595  3371773.0   \n",
       "2016-05-03 00:00:00-04:00  110.89  110.9450  110.7500  110.820  2844893.0   \n",
       "2016-05-04 00:00:00-04:00  110.91  110.9315  110.7595  110.880  2600710.0   \n",
       "2016-05-05 00:00:00-04:00  110.92  111.1600  110.8010  111.120  2569143.0   \n",
       "2016-05-06 00:00:00-04:00  111.12  111.1200  110.9700  111.000  2204464.0   \n",
       "\n",
       "                              SPY                                    \n",
       "                             open    high     low   close    volume  \n",
       "2016-05-02 00:00:00-04:00  206.92  208.18  206.41  207.97  52152807  \n",
       "2016-05-03 00:00:00-04:00  206.52  206.80  205.28  206.15  79397652  \n",
       "2016-05-04 00:00:00-04:00  204.99  205.85  204.42  204.99  73747383  \n",
       "2016-05-05 00:00:00-04:00  205.56  205.98  204.47  204.98  58322810  \n",
       "2016-05-06 00:00:00-04:00  204.06  205.77  203.88  205.70  69458860  "
      ]
     },
     "execution_count": 54,
     "metadata": {},
     "output_type": "execute_result"
    }
   ],
   "source": [
    "# Get 5 years' worth of historical data for SPY and AGG\n",
    "# (use a limit=1000 parameter to call the most recent 1000 days of data)# YOUR CODE HERE!\n",
    "df_1 = api.get_barset(\n",
    "    tickers,\n",
    "    timeframe,\n",
    "    start = start_date_1,\n",
    "    end = end_date_1,\n",
    "    limit = 1000\n",
    ").df\n",
    "\n",
    "\n",
    "df_2 = api.get_barset(\n",
    "    tickers,\n",
    "    timeframe,\n",
    "    start = start_date_2,\n",
    "    end = end_date_2,\n",
    "    limit = 1000\n",
    ").df\n",
    "\n",
    "df_stock_data = pd.concat([df_1, df_2])\n",
    "\n",
    "# Display sample data\n",
    "df_stock_data.head()\n"
   ]
  },
  {
   "cell_type": "code",
   "execution_count": 56,
   "metadata": {},
   "outputs": [
    {
     "data": {
      "text/plain": [
       "(1259, 10)"
      ]
     },
     "execution_count": 56,
     "metadata": {},
     "output_type": "execute_result"
    }
   ],
   "source": [
    "df_stock_data.shape"
   ]
  },
  {
   "cell_type": "code",
   "execution_count": 65,
   "metadata": {},
   "outputs": [
    {
     "data": {
      "text/html": [
       "<div>\n",
       "<style scoped>\n",
       "    .dataframe tbody tr th:only-of-type {\n",
       "        vertical-align: middle;\n",
       "    }\n",
       "\n",
       "    .dataframe tbody tr th {\n",
       "        vertical-align: top;\n",
       "    }\n",
       "\n",
       "    .dataframe thead tr th {\n",
       "        text-align: left;\n",
       "    }\n",
       "</style>\n",
       "<table border=\"1\" class=\"dataframe\">\n",
       "  <thead>\n",
       "    <tr>\n",
       "      <th></th>\n",
       "      <th colspan=\"6\" halign=\"left\">AGG</th>\n",
       "      <th colspan=\"6\" halign=\"left\">SPY</th>\n",
       "    </tr>\n",
       "    <tr>\n",
       "      <th></th>\n",
       "      <th>open</th>\n",
       "      <th>high</th>\n",
       "      <th>low</th>\n",
       "      <th>close</th>\n",
       "      <th>volume</th>\n",
       "      <th>daily_return</th>\n",
       "      <th>open</th>\n",
       "      <th>high</th>\n",
       "      <th>low</th>\n",
       "      <th>close</th>\n",
       "      <th>volume</th>\n",
       "      <th>daily_return</th>\n",
       "    </tr>\n",
       "  </thead>\n",
       "  <tbody>\n",
       "    <tr>\n",
       "      <th>2016-05-02 00:00:00-04:00</th>\n",
       "      <td>110.74</td>\n",
       "      <td>110.7400</td>\n",
       "      <td>110.5200</td>\n",
       "      <td>110.595</td>\n",
       "      <td>3371773.0</td>\n",
       "      <td>NaN</td>\n",
       "      <td>206.92</td>\n",
       "      <td>208.18</td>\n",
       "      <td>206.41</td>\n",
       "      <td>207.97</td>\n",
       "      <td>52152807</td>\n",
       "      <td>NaN</td>\n",
       "    </tr>\n",
       "    <tr>\n",
       "      <th>2016-05-03 00:00:00-04:00</th>\n",
       "      <td>110.89</td>\n",
       "      <td>110.9450</td>\n",
       "      <td>110.7500</td>\n",
       "      <td>110.820</td>\n",
       "      <td>2844893.0</td>\n",
       "      <td>0.002034</td>\n",
       "      <td>206.52</td>\n",
       "      <td>206.80</td>\n",
       "      <td>205.28</td>\n",
       "      <td>206.15</td>\n",
       "      <td>79397652</td>\n",
       "      <td>-0.008751</td>\n",
       "    </tr>\n",
       "    <tr>\n",
       "      <th>2016-05-04 00:00:00-04:00</th>\n",
       "      <td>110.91</td>\n",
       "      <td>110.9315</td>\n",
       "      <td>110.7595</td>\n",
       "      <td>110.880</td>\n",
       "      <td>2600710.0</td>\n",
       "      <td>0.000541</td>\n",
       "      <td>204.99</td>\n",
       "      <td>205.85</td>\n",
       "      <td>204.42</td>\n",
       "      <td>204.99</td>\n",
       "      <td>73747383</td>\n",
       "      <td>-0.005627</td>\n",
       "    </tr>\n",
       "    <tr>\n",
       "      <th>2016-05-05 00:00:00-04:00</th>\n",
       "      <td>110.92</td>\n",
       "      <td>111.1600</td>\n",
       "      <td>110.8010</td>\n",
       "      <td>111.120</td>\n",
       "      <td>2569143.0</td>\n",
       "      <td>0.002165</td>\n",
       "      <td>205.56</td>\n",
       "      <td>205.98</td>\n",
       "      <td>204.47</td>\n",
       "      <td>204.98</td>\n",
       "      <td>58322810</td>\n",
       "      <td>-0.000049</td>\n",
       "    </tr>\n",
       "    <tr>\n",
       "      <th>2016-05-06 00:00:00-04:00</th>\n",
       "      <td>111.12</td>\n",
       "      <td>111.1200</td>\n",
       "      <td>110.9700</td>\n",
       "      <td>111.000</td>\n",
       "      <td>2204464.0</td>\n",
       "      <td>-0.001080</td>\n",
       "      <td>204.06</td>\n",
       "      <td>205.77</td>\n",
       "      <td>203.88</td>\n",
       "      <td>205.70</td>\n",
       "      <td>69458860</td>\n",
       "      <td>0.003513</td>\n",
       "    </tr>\n",
       "  </tbody>\n",
       "</table>\n",
       "</div>"
      ],
      "text/plain": [
       "                              AGG                                          \\\n",
       "                             open      high       low    close     volume   \n",
       "2016-05-02 00:00:00-04:00  110.74  110.7400  110.5200  110.595  3371773.0   \n",
       "2016-05-03 00:00:00-04:00  110.89  110.9450  110.7500  110.820  2844893.0   \n",
       "2016-05-04 00:00:00-04:00  110.91  110.9315  110.7595  110.880  2600710.0   \n",
       "2016-05-05 00:00:00-04:00  110.92  111.1600  110.8010  111.120  2569143.0   \n",
       "2016-05-06 00:00:00-04:00  111.12  111.1200  110.9700  111.000  2204464.0   \n",
       "\n",
       "                                           SPY                          \\\n",
       "                          daily_return    open    high     low   close   \n",
       "2016-05-02 00:00:00-04:00          NaN  206.92  208.18  206.41  207.97   \n",
       "2016-05-03 00:00:00-04:00     0.002034  206.52  206.80  205.28  206.15   \n",
       "2016-05-04 00:00:00-04:00     0.000541  204.99  205.85  204.42  204.99   \n",
       "2016-05-05 00:00:00-04:00     0.002165  205.56  205.98  204.47  204.98   \n",
       "2016-05-06 00:00:00-04:00    -0.001080  204.06  205.77  203.88  205.70   \n",
       "\n",
       "                                                  \n",
       "                             volume daily_return  \n",
       "2016-05-02 00:00:00-04:00  52152807          NaN  \n",
       "2016-05-03 00:00:00-04:00  79397652    -0.008751  \n",
       "2016-05-04 00:00:00-04:00  73747383    -0.005627  \n",
       "2016-05-05 00:00:00-04:00  58322810    -0.000049  \n",
       "2016-05-06 00:00:00-04:00  69458860     0.003513  "
      ]
     },
     "execution_count": 65,
     "metadata": {},
     "output_type": "execute_result"
    }
   ],
   "source": [
    "# Configuring a Monte Carlo simulation to forecast 30 years cumulative returns\n",
    "mc_simulation = MCSimulation(\n",
    "                            df_stock_data,\n",
    "                            weights = [0.4, 0.6],\n",
    "                            num_simulation = 500,\n",
    "                            num_trading_days = 252*30)\n",
    "\n",
    "mc_simulation.portfolio_data.head()"
   ]
  },
  {
   "cell_type": "code",
   "execution_count": 66,
   "metadata": {},
   "outputs": [
    {
     "name": "stdout",
     "output_type": "stream",
     "text": [
      "Running Monte Carlo simulation number 0.\n",
      "Running Monte Carlo simulation number 10.\n",
      "Running Monte Carlo simulation number 20.\n",
      "Running Monte Carlo simulation number 30.\n",
      "Running Monte Carlo simulation number 40.\n",
      "Running Monte Carlo simulation number 50.\n",
      "Running Monte Carlo simulation number 60.\n",
      "Running Monte Carlo simulation number 70.\n",
      "Running Monte Carlo simulation number 80.\n",
      "Running Monte Carlo simulation number 90.\n",
      "Running Monte Carlo simulation number 100.\n",
      "Running Monte Carlo simulation number 110.\n",
      "Running Monte Carlo simulation number 120.\n",
      "Running Monte Carlo simulation number 130.\n",
      "Running Monte Carlo simulation number 140.\n",
      "Running Monte Carlo simulation number 150.\n",
      "Running Monte Carlo simulation number 160.\n",
      "Running Monte Carlo simulation number 170.\n",
      "Running Monte Carlo simulation number 180.\n",
      "Running Monte Carlo simulation number 190.\n",
      "Running Monte Carlo simulation number 200.\n",
      "Running Monte Carlo simulation number 210.\n",
      "Running Monte Carlo simulation number 220.\n",
      "Running Monte Carlo simulation number 230.\n",
      "Running Monte Carlo simulation number 240.\n",
      "Running Monte Carlo simulation number 250.\n",
      "Running Monte Carlo simulation number 260.\n",
      "Running Monte Carlo simulation number 270.\n",
      "Running Monte Carlo simulation number 280.\n",
      "Running Monte Carlo simulation number 290.\n",
      "Running Monte Carlo simulation number 300.\n",
      "Running Monte Carlo simulation number 310.\n",
      "Running Monte Carlo simulation number 320.\n",
      "Running Monte Carlo simulation number 330.\n",
      "Running Monte Carlo simulation number 340.\n",
      "Running Monte Carlo simulation number 350.\n",
      "Running Monte Carlo simulation number 360.\n",
      "Running Monte Carlo simulation number 370.\n",
      "Running Monte Carlo simulation number 380.\n",
      "Running Monte Carlo simulation number 390.\n",
      "Running Monte Carlo simulation number 400.\n",
      "Running Monte Carlo simulation number 410.\n",
      "Running Monte Carlo simulation number 420.\n",
      "Running Monte Carlo simulation number 430.\n",
      "Running Monte Carlo simulation number 440.\n",
      "Running Monte Carlo simulation number 450.\n",
      "Running Monte Carlo simulation number 460.\n",
      "Running Monte Carlo simulation number 470.\n",
      "Running Monte Carlo simulation number 480.\n",
      "Running Monte Carlo simulation number 490.\n"
     ]
    },
    {
     "data": {
      "text/html": [
       "<div>\n",
       "<style scoped>\n",
       "    .dataframe tbody tr th:only-of-type {\n",
       "        vertical-align: middle;\n",
       "    }\n",
       "\n",
       "    .dataframe tbody tr th {\n",
       "        vertical-align: top;\n",
       "    }\n",
       "\n",
       "    .dataframe thead th {\n",
       "        text-align: right;\n",
       "    }\n",
       "</style>\n",
       "<table border=\"1\" class=\"dataframe\">\n",
       "  <thead>\n",
       "    <tr style=\"text-align: right;\">\n",
       "      <th></th>\n",
       "      <th>0</th>\n",
       "      <th>1</th>\n",
       "      <th>2</th>\n",
       "      <th>3</th>\n",
       "      <th>4</th>\n",
       "      <th>5</th>\n",
       "      <th>6</th>\n",
       "      <th>7</th>\n",
       "      <th>8</th>\n",
       "      <th>9</th>\n",
       "      <th>...</th>\n",
       "      <th>490</th>\n",
       "      <th>491</th>\n",
       "      <th>492</th>\n",
       "      <th>493</th>\n",
       "      <th>494</th>\n",
       "      <th>495</th>\n",
       "      <th>496</th>\n",
       "      <th>497</th>\n",
       "      <th>498</th>\n",
       "      <th>499</th>\n",
       "    </tr>\n",
       "  </thead>\n",
       "  <tbody>\n",
       "    <tr>\n",
       "      <th>0</th>\n",
       "      <td>1.000000</td>\n",
       "      <td>1.000000</td>\n",
       "      <td>1.000000</td>\n",
       "      <td>1.000000</td>\n",
       "      <td>1.000000</td>\n",
       "      <td>1.000000</td>\n",
       "      <td>1.000000</td>\n",
       "      <td>1.000000</td>\n",
       "      <td>1.000000</td>\n",
       "      <td>1.000000</td>\n",
       "      <td>...</td>\n",
       "      <td>1.000000</td>\n",
       "      <td>1.000000</td>\n",
       "      <td>1.000000</td>\n",
       "      <td>1.000000</td>\n",
       "      <td>1.000000</td>\n",
       "      <td>1.000000</td>\n",
       "      <td>1.000000</td>\n",
       "      <td>1.000000</td>\n",
       "      <td>1.000000</td>\n",
       "      <td>1.000000</td>\n",
       "    </tr>\n",
       "    <tr>\n",
       "      <th>1</th>\n",
       "      <td>1.003827</td>\n",
       "      <td>1.004913</td>\n",
       "      <td>1.004965</td>\n",
       "      <td>1.000601</td>\n",
       "      <td>1.011194</td>\n",
       "      <td>0.991888</td>\n",
       "      <td>0.992093</td>\n",
       "      <td>1.005449</td>\n",
       "      <td>0.996602</td>\n",
       "      <td>0.985062</td>\n",
       "      <td>...</td>\n",
       "      <td>1.002265</td>\n",
       "      <td>0.987202</td>\n",
       "      <td>1.012038</td>\n",
       "      <td>0.997489</td>\n",
       "      <td>1.004062</td>\n",
       "      <td>0.996826</td>\n",
       "      <td>0.988165</td>\n",
       "      <td>1.004204</td>\n",
       "      <td>1.015198</td>\n",
       "      <td>0.998549</td>\n",
       "    </tr>\n",
       "    <tr>\n",
       "      <th>2</th>\n",
       "      <td>0.998844</td>\n",
       "      <td>1.009138</td>\n",
       "      <td>1.008987</td>\n",
       "      <td>1.003762</td>\n",
       "      <td>1.006686</td>\n",
       "      <td>1.002566</td>\n",
       "      <td>0.985875</td>\n",
       "      <td>1.013555</td>\n",
       "      <td>0.998762</td>\n",
       "      <td>0.980783</td>\n",
       "      <td>...</td>\n",
       "      <td>0.997609</td>\n",
       "      <td>0.987800</td>\n",
       "      <td>1.022389</td>\n",
       "      <td>0.996564</td>\n",
       "      <td>1.007485</td>\n",
       "      <td>0.998935</td>\n",
       "      <td>0.997983</td>\n",
       "      <td>0.991236</td>\n",
       "      <td>1.015295</td>\n",
       "      <td>1.004471</td>\n",
       "    </tr>\n",
       "    <tr>\n",
       "      <th>3</th>\n",
       "      <td>0.997539</td>\n",
       "      <td>1.013069</td>\n",
       "      <td>1.011741</td>\n",
       "      <td>1.005482</td>\n",
       "      <td>1.006820</td>\n",
       "      <td>1.016354</td>\n",
       "      <td>0.982378</td>\n",
       "      <td>1.012777</td>\n",
       "      <td>1.003486</td>\n",
       "      <td>0.979669</td>\n",
       "      <td>...</td>\n",
       "      <td>0.994691</td>\n",
       "      <td>0.986555</td>\n",
       "      <td>1.033294</td>\n",
       "      <td>0.995975</td>\n",
       "      <td>1.006507</td>\n",
       "      <td>0.992099</td>\n",
       "      <td>1.000409</td>\n",
       "      <td>0.992683</td>\n",
       "      <td>1.012684</td>\n",
       "      <td>0.999585</td>\n",
       "    </tr>\n",
       "    <tr>\n",
       "      <th>4</th>\n",
       "      <td>1.013241</td>\n",
       "      <td>1.010396</td>\n",
       "      <td>1.019217</td>\n",
       "      <td>1.003318</td>\n",
       "      <td>0.988794</td>\n",
       "      <td>1.015007</td>\n",
       "      <td>0.985820</td>\n",
       "      <td>0.998419</td>\n",
       "      <td>1.002537</td>\n",
       "      <td>0.974569</td>\n",
       "      <td>...</td>\n",
       "      <td>0.998350</td>\n",
       "      <td>0.994477</td>\n",
       "      <td>1.028863</td>\n",
       "      <td>0.984297</td>\n",
       "      <td>1.008346</td>\n",
       "      <td>0.998028</td>\n",
       "      <td>1.009495</td>\n",
       "      <td>0.979565</td>\n",
       "      <td>1.007856</td>\n",
       "      <td>0.999492</td>\n",
       "    </tr>\n",
       "    <tr>\n",
       "      <th>...</th>\n",
       "      <td>...</td>\n",
       "      <td>...</td>\n",
       "      <td>...</td>\n",
       "      <td>...</td>\n",
       "      <td>...</td>\n",
       "      <td>...</td>\n",
       "      <td>...</td>\n",
       "      <td>...</td>\n",
       "      <td>...</td>\n",
       "      <td>...</td>\n",
       "      <td>...</td>\n",
       "      <td>...</td>\n",
       "      <td>...</td>\n",
       "      <td>...</td>\n",
       "      <td>...</td>\n",
       "      <td>...</td>\n",
       "      <td>...</td>\n",
       "      <td>...</td>\n",
       "      <td>...</td>\n",
       "      <td>...</td>\n",
       "      <td>...</td>\n",
       "    </tr>\n",
       "    <tr>\n",
       "      <th>7556</th>\n",
       "      <td>16.389359</td>\n",
       "      <td>3.146064</td>\n",
       "      <td>10.745221</td>\n",
       "      <td>6.716845</td>\n",
       "      <td>21.918186</td>\n",
       "      <td>13.494094</td>\n",
       "      <td>21.523905</td>\n",
       "      <td>46.501654</td>\n",
       "      <td>29.636470</td>\n",
       "      <td>14.772766</td>\n",
       "      <td>...</td>\n",
       "      <td>4.373662</td>\n",
       "      <td>42.938450</td>\n",
       "      <td>17.165727</td>\n",
       "      <td>7.221826</td>\n",
       "      <td>15.468557</td>\n",
       "      <td>32.333434</td>\n",
       "      <td>5.506735</td>\n",
       "      <td>17.154905</td>\n",
       "      <td>16.306929</td>\n",
       "      <td>9.444302</td>\n",
       "    </tr>\n",
       "    <tr>\n",
       "      <th>7557</th>\n",
       "      <td>16.449495</td>\n",
       "      <td>3.125059</td>\n",
       "      <td>10.712895</td>\n",
       "      <td>6.778928</td>\n",
       "      <td>22.229504</td>\n",
       "      <td>13.377686</td>\n",
       "      <td>21.648478</td>\n",
       "      <td>46.012007</td>\n",
       "      <td>29.713722</td>\n",
       "      <td>14.810516</td>\n",
       "      <td>...</td>\n",
       "      <td>4.351903</td>\n",
       "      <td>43.177660</td>\n",
       "      <td>17.115869</td>\n",
       "      <td>7.195644</td>\n",
       "      <td>15.546802</td>\n",
       "      <td>32.443586</td>\n",
       "      <td>5.483984</td>\n",
       "      <td>17.059376</td>\n",
       "      <td>16.298849</td>\n",
       "      <td>9.433199</td>\n",
       "    </tr>\n",
       "    <tr>\n",
       "      <th>7558</th>\n",
       "      <td>16.259425</td>\n",
       "      <td>3.111998</td>\n",
       "      <td>10.773775</td>\n",
       "      <td>6.779911</td>\n",
       "      <td>22.684437</td>\n",
       "      <td>13.489121</td>\n",
       "      <td>21.597307</td>\n",
       "      <td>46.301589</td>\n",
       "      <td>29.568050</td>\n",
       "      <td>14.660318</td>\n",
       "      <td>...</td>\n",
       "      <td>4.358913</td>\n",
       "      <td>43.176328</td>\n",
       "      <td>16.766978</td>\n",
       "      <td>7.152947</td>\n",
       "      <td>15.491685</td>\n",
       "      <td>32.296653</td>\n",
       "      <td>5.473773</td>\n",
       "      <td>16.884535</td>\n",
       "      <td>16.028894</td>\n",
       "      <td>9.383125</td>\n",
       "    </tr>\n",
       "    <tr>\n",
       "      <th>7559</th>\n",
       "      <td>16.117605</td>\n",
       "      <td>3.108188</td>\n",
       "      <td>10.806731</td>\n",
       "      <td>6.858183</td>\n",
       "      <td>22.789059</td>\n",
       "      <td>13.402191</td>\n",
       "      <td>21.438750</td>\n",
       "      <td>46.084746</td>\n",
       "      <td>29.897720</td>\n",
       "      <td>14.795424</td>\n",
       "      <td>...</td>\n",
       "      <td>4.344028</td>\n",
       "      <td>43.090775</td>\n",
       "      <td>16.634849</td>\n",
       "      <td>7.188122</td>\n",
       "      <td>15.374821</td>\n",
       "      <td>32.207922</td>\n",
       "      <td>5.468555</td>\n",
       "      <td>16.810815</td>\n",
       "      <td>15.941335</td>\n",
       "      <td>9.362781</td>\n",
       "    </tr>\n",
       "    <tr>\n",
       "      <th>7560</th>\n",
       "      <td>15.924406</td>\n",
       "      <td>3.113782</td>\n",
       "      <td>10.939330</td>\n",
       "      <td>6.839074</td>\n",
       "      <td>22.586729</td>\n",
       "      <td>13.380679</td>\n",
       "      <td>21.308152</td>\n",
       "      <td>46.036200</td>\n",
       "      <td>29.438512</td>\n",
       "      <td>14.908465</td>\n",
       "      <td>...</td>\n",
       "      <td>4.315465</td>\n",
       "      <td>43.644857</td>\n",
       "      <td>16.588281</td>\n",
       "      <td>7.140224</td>\n",
       "      <td>15.431198</td>\n",
       "      <td>32.218481</td>\n",
       "      <td>5.444015</td>\n",
       "      <td>16.753165</td>\n",
       "      <td>15.875288</td>\n",
       "      <td>9.310694</td>\n",
       "    </tr>\n",
       "  </tbody>\n",
       "</table>\n",
       "<p>7561 rows × 500 columns</p>\n",
       "</div>"
      ],
      "text/plain": [
       "            0         1          2         3          4          5    \\\n",
       "0      1.000000  1.000000   1.000000  1.000000   1.000000   1.000000   \n",
       "1      1.003827  1.004913   1.004965  1.000601   1.011194   0.991888   \n",
       "2      0.998844  1.009138   1.008987  1.003762   1.006686   1.002566   \n",
       "3      0.997539  1.013069   1.011741  1.005482   1.006820   1.016354   \n",
       "4      1.013241  1.010396   1.019217  1.003318   0.988794   1.015007   \n",
       "...         ...       ...        ...       ...        ...        ...   \n",
       "7556  16.389359  3.146064  10.745221  6.716845  21.918186  13.494094   \n",
       "7557  16.449495  3.125059  10.712895  6.778928  22.229504  13.377686   \n",
       "7558  16.259425  3.111998  10.773775  6.779911  22.684437  13.489121   \n",
       "7559  16.117605  3.108188  10.806731  6.858183  22.789059  13.402191   \n",
       "7560  15.924406  3.113782  10.939330  6.839074  22.586729  13.380679   \n",
       "\n",
       "            6          7          8          9    ...       490        491  \\\n",
       "0      1.000000   1.000000   1.000000   1.000000  ...  1.000000   1.000000   \n",
       "1      0.992093   1.005449   0.996602   0.985062  ...  1.002265   0.987202   \n",
       "2      0.985875   1.013555   0.998762   0.980783  ...  0.997609   0.987800   \n",
       "3      0.982378   1.012777   1.003486   0.979669  ...  0.994691   0.986555   \n",
       "4      0.985820   0.998419   1.002537   0.974569  ...  0.998350   0.994477   \n",
       "...         ...        ...        ...        ...  ...       ...        ...   \n",
       "7556  21.523905  46.501654  29.636470  14.772766  ...  4.373662  42.938450   \n",
       "7557  21.648478  46.012007  29.713722  14.810516  ...  4.351903  43.177660   \n",
       "7558  21.597307  46.301589  29.568050  14.660318  ...  4.358913  43.176328   \n",
       "7559  21.438750  46.084746  29.897720  14.795424  ...  4.344028  43.090775   \n",
       "7560  21.308152  46.036200  29.438512  14.908465  ...  4.315465  43.644857   \n",
       "\n",
       "            492       493        494        495       496        497  \\\n",
       "0      1.000000  1.000000   1.000000   1.000000  1.000000   1.000000   \n",
       "1      1.012038  0.997489   1.004062   0.996826  0.988165   1.004204   \n",
       "2      1.022389  0.996564   1.007485   0.998935  0.997983   0.991236   \n",
       "3      1.033294  0.995975   1.006507   0.992099  1.000409   0.992683   \n",
       "4      1.028863  0.984297   1.008346   0.998028  1.009495   0.979565   \n",
       "...         ...       ...        ...        ...       ...        ...   \n",
       "7556  17.165727  7.221826  15.468557  32.333434  5.506735  17.154905   \n",
       "7557  17.115869  7.195644  15.546802  32.443586  5.483984  17.059376   \n",
       "7558  16.766978  7.152947  15.491685  32.296653  5.473773  16.884535   \n",
       "7559  16.634849  7.188122  15.374821  32.207922  5.468555  16.810815   \n",
       "7560  16.588281  7.140224  15.431198  32.218481  5.444015  16.753165   \n",
       "\n",
       "            498       499  \n",
       "0      1.000000  1.000000  \n",
       "1      1.015198  0.998549  \n",
       "2      1.015295  1.004471  \n",
       "3      1.012684  0.999585  \n",
       "4      1.007856  0.999492  \n",
       "...         ...       ...  \n",
       "7556  16.306929  9.444302  \n",
       "7557  16.298849  9.433199  \n",
       "7558  16.028894  9.383125  \n",
       "7559  15.941335  9.362781  \n",
       "7560  15.875288  9.310694  \n",
       "\n",
       "[7561 rows x 500 columns]"
      ]
     },
     "execution_count": 66,
     "metadata": {},
     "output_type": "execute_result"
    }
   ],
   "source": [
    "mc_simulation.calc_cumulative_return()"
   ]
  },
  {
   "cell_type": "code",
   "execution_count": 67,
   "metadata": {},
   "outputs": [
    {
     "data": {
      "image/png": "[encoded data removed]",
      "text/plain": [
       "<Figure size 432x288 with 1 Axes>"
      ]
     },
     "metadata": {
      "needs_background": "light"
     },
     "output_type": "display_data"
    }
   ],
   "source": [
    "# Plot simulation outcomes\n",
    "line_plot = mc_simulation.plot_simulation()"
   ]
  },
  {
   "cell_type": "code",
   "execution_count": 68,
   "metadata": {},
   "outputs": [
    {
     "data": {
      "image/png": "[encoded data removed]",
      "text/plain": [
       "<Figure size 432x288 with 1 Axes>"
      ]
     },
     "metadata": {
      "needs_background": "light"
     },
     "output_type": "display_data"
    }
   ],
   "source": [
    "# Plot probability distribution and confidence intervals\n",
    "dist_plot = mc_simulation.plot_distribution()"
   ]
  },
  {
   "cell_type": "markdown",
   "metadata": {},
   "source": [
    "### Retirement Analysis"
   ]
  },
  {
   "cell_type": "code",
   "execution_count": 69,
   "metadata": {},
   "outputs": [
    {
     "name": "stdout",
     "output_type": "stream",
     "text": [
      "count           500.000000\n",
      "mean             19.368908\n",
      "std              12.598298\n",
      "min               2.588671\n",
      "25%              10.284164\n",
      "50%              15.860103\n",
      "75%              25.520838\n",
      "max              71.012802\n",
      "95% CI Lower      4.401950\n",
      "95% CI Upper     54.208984\n",
      "Name: 7560, dtype: float64\n"
     ]
    }
   ],
   "source": [
    "# Fetch summary statistics from the Monte Carlo simulation results\n",
    "summary_table = mc_simulation.summarize_cumulative_return()\n",
    "\n",
    "# Print summary statistics\n",
    "print(summary_table)"
   ]
  },
  {
   "cell_type": "markdown",
   "metadata": {},
   "source": [
    "### Calculate the expected portfolio return at the `95%` lower and upper confidence intervals based on a `$20,000` initial investment."
   ]
  },
  {
   "cell_type": "code",
   "execution_count": 71,
   "metadata": {},
   "outputs": [
    {
     "name": "stdout",
     "output_type": "stream",
     "text": [
      "There is a 95% chance that an initial investment of $20000 in the portfolio over the next 30 years will end within in the range of $88039.00793737941 and $1084179.6897963213\n"
     ]
    }
   ],
   "source": [
    "# Set initial investment\n",
    "initial_investment = 20000\n",
    "\n",
    "# Use the lower and upper `95%` confidence intervals to calculate the range of the possible outcomes of our $20,000\n",
    "ci_lower = summary_table[8] * initial_investment\n",
    "ci_upper = summary_table[9] * initial_investment\n",
    "# Print results\n",
    "print(f\"There is a 95% chance that an initial investment of ${initial_investment} in the portfolio\"\n",
    "      f\" over the next 30 years will end within in the range of\"\n",
    "      f\" ${ci_lower} and ${ci_upper}\")"
   ]
  },
  {
   "cell_type": "markdown",
   "metadata": {},
   "source": [
    "### Calculate the expected portfolio return at the `95%` lower and upper confidence intervals based on a `50%` increase in the initial investment."
   ]
  },
  {
   "cell_type": "code",
   "execution_count": 81,
   "metadata": {},
   "outputs": [
    {
     "name": "stdout",
     "output_type": "stream",
     "text": [
      "There is a 95% chance that an initial investment of $30000.0 in the portfolio over the next 30 years will end within in the range of $132058.51190606912 and $1626269.5346944819\n"
     ]
    }
   ],
   "source": [
    "# Set initial investment\n",
    "initial_investment_2 = 20000 * 1.5\n",
    "\n",
    "# Use the lower and upper `95%` confidence intervals to calculate the range of the possible outcomes of our $30,000\n",
    "ci_lower_2 = summary_table[8] * initial_investment_2\n",
    "ci_upper_2 = summary_table[9] * initial_investment_2\n",
    "\n",
    "# Print results\n",
    "print(f\"There is a 95% chance that an initial investment of ${initial_investment_2} in the portfolio\"\n",
    "      f\" over the next 30 years will end within in the range of\"\n",
    "      f\" ${ci_lower_2} and ${ci_upper_2}\")"
   ]
  },
  {
   "cell_type": "markdown",
   "metadata": {},
   "source": [
    "## Optional Challenge - Early Retirement\n",
    "\n",
    "\n",
    "### Five Years Retirement Option"
   ]
  },
  {
   "cell_type": "code",
   "execution_count": null,
   "metadata": {},
   "outputs": [],
   "source": [
    "# Configuring a Monte Carlo simulation to forecast 5 years cumulative returns\n",
    "# YOUR CODE HERE!"
   ]
  },
  {
   "cell_type": "code",
   "execution_count": null,
   "metadata": {},
   "outputs": [],
   "source": [
    "# Running a Monte Carlo simulation to forecast 5 years cumulative returns\n",
    "# YOUR CODE HERE!"
   ]
  },
  {
   "cell_type": "code",
   "execution_count": null,
   "metadata": {},
   "outputs": [],
   "source": [
    "# Plot simulation outcomes\n",
    "# YOUR CODE HERE!"
   ]
  },
  {
   "cell_type": "code",
   "execution_count": null,
   "metadata": {},
   "outputs": [],
   "source": [
    "# Plot probability distribution and confidence intervals\n",
    "# YOUR CODE HERE!"
   ]
  },
  {
   "cell_type": "code",
   "execution_count": null,
   "metadata": {},
   "outputs": [],
   "source": [
    "# Fetch summary statistics from the Monte Carlo simulation results\n",
    "# YOUR CODE HERE!\n",
    "\n",
    "# Print summary statistics\n",
    "# YOUR CODE HERE!"
   ]
  },
  {
   "cell_type": "code",
   "execution_count": null,
   "metadata": {},
   "outputs": [],
   "source": [
    "# Set initial investment\n",
    "# YOUR CODE HERE!\n",
    "\n",
    "# Use the lower and upper `95%` confidence intervals to calculate the range of the possible outcomes of our $60,000\n",
    "# YOUR CODE HERE!\n",
    "\n",
    "# Print results\n",
    "print(f\"There is a 95% chance that an initial investment of ${initial_investment} in the portfolio\"\n",
    "      f\" over the next 5 years will end within in the range of\"\n",
    "      f\" ${ci_lower_five} and ${ci_upper_five}\")"
   ]
  },
  {
   "cell_type": "markdown",
   "metadata": {},
   "source": [
    "### Ten Years Retirement Option"
   ]
  },
  {
   "cell_type": "code",
   "execution_count": null,
   "metadata": {},
   "outputs": [],
   "source": [
    "# Configuring a Monte Carlo simulation to forecast 10 years cumulative returns\n",
    "# YOUR CODE HERE!"
   ]
  },
  {
   "cell_type": "code",
   "execution_count": null,
   "metadata": {},
   "outputs": [],
   "source": [
    "# Running a Monte Carlo simulation to forecast 10 years cumulative returns\n",
    "# YOUR CODE HERE!"
   ]
  },
  {
   "cell_type": "code",
   "execution_count": null,
   "metadata": {},
   "outputs": [],
   "source": [
    "# Plot simulation outcomes\n",
    "# YOUR CODE HERE!"
   ]
  },
  {
   "cell_type": "code",
   "execution_count": null,
   "metadata": {},
   "outputs": [],
   "source": [
    "# Plot probability distribution and confidence intervals\n",
    "# YOUR CODE HERE!"
   ]
  },
  {
   "cell_type": "code",
   "execution_count": null,
   "metadata": {},
   "outputs": [],
   "source": [
    "# Fetch summary statistics from the Monte Carlo simulation results\n",
    "# YOUR CODE HERE!\n",
    "\n",
    "# Print summary statistics\n",
    "# YOUR CODE HERE!"
   ]
  },
  {
   "cell_type": "code",
   "execution_count": null,
   "metadata": {},
   "outputs": [],
   "source": [
    "# Set initial investment\n",
    "# YOUR CODE HERE!\n",
    "\n",
    "# Use the lower and upper `95%` confidence intervals to calculate the range of the possible outcomes of our $60,000\n",
    "# YOUR CODE HERE!\n",
    "\n",
    "# Print results\n",
    "print(f\"There is a 95% chance that an initial investment of ${initial_investment} in the portfolio\"\n",
    "      f\" over the next 10 years will end within in the range of\"\n",
    "      f\" ${ci_lower_ten} and ${ci_upper_ten}\")"
   ]
  },
  {
   "cell_type": "code",
   "execution_count": null,
   "metadata": {},
   "outputs": [],
   "source": []
  }
 ],
 "metadata": {
  "kernelspec": {
   "display_name": "Python 3",
   "language": "python",
   "name": "python3"
  },
  "language_info": {
   "codemirror_mode": {
    "name": "ipython",
    "version": 3
   },
   "file_extension": ".py",
   "mimetype": "text/x-python",
   "name": "python",
   "nbconvert_exporter": "python",
   "pygments_lexer": "ipython3",
   "version": "3.8.5"
  },
  "nteract": {
   "version": "0.28.0"
  }
 },
 "nbformat": 4,
 "nbformat_minor": 4
}
